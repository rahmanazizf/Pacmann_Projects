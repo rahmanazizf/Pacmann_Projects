{
 "cells": [
  {
   "cell_type": "markdown",
   "metadata": {},
   "source": [
    "# Pacmann 1st Project: Probability I"
   ]
  },
  {
   "cell_type": "markdown",
   "metadata": {},
   "source": [
    "##### Created and Aranged by Rahman Aziz Firmansyah"
   ]
  },
  {
   "cell_type": "markdown",
   "metadata": {},
   "source": [
    "## Descriptive Statistics Analyses"
   ]
  },
  {
   "cell_type": "code",
   "execution_count": 37,
   "metadata": {},
   "outputs": [],
   "source": [
    "import pandas as pd\n",
    "import numpy as np\n",
    "import matplotlib.pyplot as plt\n",
    "import seaborn as sns"
   ]
  },
  {
   "cell_type": "code",
   "execution_count": 5,
   "metadata": {},
   "outputs": [
    {
     "data": {
      "text/html": [
       "<div>\n",
       "<style scoped>\n",
       "    .dataframe tbody tr th:only-of-type {\n",
       "        vertical-align: middle;\n",
       "    }\n",
       "\n",
       "    .dataframe tbody tr th {\n",
       "        vertical-align: top;\n",
       "    }\n",
       "\n",
       "    .dataframe thead th {\n",
       "        text-align: right;\n",
       "    }\n",
       "</style>\n",
       "<table border=\"1\" class=\"dataframe\">\n",
       "  <thead>\n",
       "    <tr style=\"text-align: right;\">\n",
       "      <th></th>\n",
       "      <th>age</th>\n",
       "      <th>sex</th>\n",
       "      <th>bmi</th>\n",
       "      <th>children</th>\n",
       "      <th>smoker</th>\n",
       "      <th>region</th>\n",
       "      <th>charges</th>\n",
       "    </tr>\n",
       "  </thead>\n",
       "  <tbody>\n",
       "    <tr>\n",
       "      <th>0</th>\n",
       "      <td>19</td>\n",
       "      <td>female</td>\n",
       "      <td>27.900</td>\n",
       "      <td>0</td>\n",
       "      <td>yes</td>\n",
       "      <td>southwest</td>\n",
       "      <td>16884.92400</td>\n",
       "    </tr>\n",
       "    <tr>\n",
       "      <th>1</th>\n",
       "      <td>18</td>\n",
       "      <td>male</td>\n",
       "      <td>33.770</td>\n",
       "      <td>1</td>\n",
       "      <td>no</td>\n",
       "      <td>southeast</td>\n",
       "      <td>1725.55230</td>\n",
       "    </tr>\n",
       "    <tr>\n",
       "      <th>2</th>\n",
       "      <td>28</td>\n",
       "      <td>male</td>\n",
       "      <td>33.000</td>\n",
       "      <td>3</td>\n",
       "      <td>no</td>\n",
       "      <td>southeast</td>\n",
       "      <td>4449.46200</td>\n",
       "    </tr>\n",
       "    <tr>\n",
       "      <th>3</th>\n",
       "      <td>33</td>\n",
       "      <td>male</td>\n",
       "      <td>22.705</td>\n",
       "      <td>0</td>\n",
       "      <td>no</td>\n",
       "      <td>northwest</td>\n",
       "      <td>21984.47061</td>\n",
       "    </tr>\n",
       "    <tr>\n",
       "      <th>4</th>\n",
       "      <td>32</td>\n",
       "      <td>male</td>\n",
       "      <td>28.880</td>\n",
       "      <td>0</td>\n",
       "      <td>no</td>\n",
       "      <td>northwest</td>\n",
       "      <td>3866.85520</td>\n",
       "    </tr>\n",
       "  </tbody>\n",
       "</table>\n",
       "</div>"
      ],
      "text/plain": [
       "   age     sex     bmi  children smoker     region      charges\n",
       "0   19  female  27.900         0    yes  southwest  16884.92400\n",
       "1   18    male  33.770         1     no  southeast   1725.55230\n",
       "2   28    male  33.000         3     no  southeast   4449.46200\n",
       "3   33    male  22.705         0     no  northwest  21984.47061\n",
       "4   32    male  28.880         0     no  northwest   3866.85520"
      ]
     },
     "execution_count": 5,
     "metadata": {},
     "output_type": "execute_result"
    }
   ],
   "source": [
    "insurance = pd.read_csv('insurance.csv')\n",
    "insurance.head()"
   ]
  },
  {
   "cell_type": "code",
   "execution_count": 10,
   "metadata": {},
   "outputs": [
    {
     "name": "stdout",
     "output_type": "stream",
     "text": [
      "Rata-rata umur pengguna asuransi: 39\n"
     ]
    }
   ],
   "source": [
    "# average insurance users\n",
    "avg_age_users = np.mean(insurance['age'])\n",
    "print(f\"Rata-rata umur pengguna asuransi: {avg_age_users:.0f}\")"
   ]
  },
  {
   "cell_type": "code",
   "execution_count": 30,
   "metadata": {},
   "outputs": [
    {
     "name": "stdout",
     "output_type": "stream",
     "text": [
      "Rata-rata BMI pengguna asuransi yang merokok: 30.71\n",
      "Rata-rata BMI pengguna asuransi yang tidak merokok: 30.65\n"
     ]
    }
   ],
   "source": [
    "# conditional statement for smoker\n",
    "smoker = insurance['smoker'] == 'yes'\n",
    "\n",
    "# average body mass index of insurance users that smoke\n",
    "avg_bmi_smokers = np.mean(insurance['bmi'][smoker])\n",
    "avg_bmi_nonsmokers = np.mean(insurance['bmi'][~smoker])\n",
    "print(f\"Rata-rata BMI pengguna asuransi yang merokok: {avg_bmi_smokers:.2f}\")\n",
    "print(f\"Rata-rata BMI pengguna asuransi yang tidak merokok: {avg_bmi_nonsmokers:.2f}\")"
   ]
  },
  {
   "cell_type": "code",
   "execution_count": 22,
   "metadata": {},
   "outputs": [
    {
     "name": "stdout",
     "output_type": "stream",
     "text": [
      "Rata-rata tagihan pengguna asuransi yang merokok: 32050.23\n",
      "Rata-rata tagihan pengguna asuransi yang tidak merokok: 8434.27\n"
     ]
    }
   ],
   "source": [
    "# average charges of smokers\n",
    "avg_charges_smokers = np.mean(insurance['charges'][smoker])\n",
    "\n",
    "# average charges of non smokers\n",
    "avg_charges_nonsmokers = np.mean(insurance['charges'][~smoker])\n",
    "\n",
    "print(f\"Rata-rata tagihan pengguna asuransi yang merokok: {avg_charges_smokers:.2f}\")\n",
    "print(f\"Rata-rata tagihan pengguna asuransi yang tidak merokok: {avg_charges_nonsmokers:.2f}\")"
   ]
  },
  {
   "cell_type": "markdown",
   "metadata": {},
   "source": [
    "Insight #1: Difference between average charge of insurance users that smoke and do not smoke is signifficant"
   ]
  },
  {
   "cell_type": "code",
   "execution_count": 27,
   "metadata": {},
   "outputs": [
    {
     "name": "stdout",
     "output_type": "stream",
     "text": [
      "Rata-rata BMI pengguna yang berumur lebih dari 25 dan merokok: 30.58\n",
      "Rata-rata BMI pengguna yang berumur lebih dari 25 dan tidak merokok: 30.93\n"
     ]
    }
   ],
   "source": [
    "# average BMI of users aged over 25 that smoke and don't smoke\n",
    "\n",
    "# conditional stament for users who is aged over 25\n",
    "\n",
    "\n",
    "over_25 = insurance['age'] > 25\n",
    "\n",
    "# average BMI of users aged over 25 that smoke\n",
    "avg_bmi_25_smokers = np.mean(insurance['bmi'][smoker & over_25])\n",
    "\n",
    "# average BMI of users aged over 25 that don't smoke\n",
    "avg_bmi_25_nonsmokers = np.mean(insurance['bmi'][~smoker & over_25])\n",
    "\n",
    "print(f\"Rata-rata BMI pengguna yang berumur lebih dari 25 dan merokok: {avg_bmi_25_smokers:.2f}\")\n",
    "print(f\"Rata-rata BMI pengguna yang berumur lebih dari 25 dan tidak merokok: {avg_bmi_25_nonsmokers:.2f}\")"
   ]
  },
  {
   "cell_type": "markdown",
   "metadata": {},
   "source": [
    "Insight #2: Average BMI of users either smokers or non smokers, and either belong to older or younger age, relatively same"
   ]
  },
  {
   "cell_type": "code",
   "execution_count": 33,
   "metadata": {},
   "outputs": [
    {
     "name": "stdout",
     "output_type": "stream",
     "text": [
      "Rata-rata BMI pengguna pria: 30.94\n",
      "Rata-rata BMI pengguna wanita: 30.38\n"
     ]
    }
   ],
   "source": [
    "# comparing BMI between male and female users\n",
    "\n",
    "# conditional statement for male users\n",
    "male = insurance['sex'] == 'male'\n",
    "\n",
    "# average BMI of male users\n",
    "avg_bmi_male = np.mean(insurance['bmi'][male])\n",
    "avg_bmi_female = np.mean(insurance['bmi'][~male])\n",
    "\n",
    "print(f\"Rata-rata BMI pengguna pria: {avg_bmi_male:.2f}\")\n",
    "print(f\"Rata-rata BMI pengguna wanita: {avg_bmi_female:.2f}\")"
   ]
  },
  {
   "cell_type": "markdown",
   "metadata": {},
   "source": [
    "Insight #3: average BMI of users is **relatively same** **regradless** other factors such as smoker or non smokers, older or younger, male or female"
   ]
  },
  {
   "cell_type": "markdown",
   "metadata": {},
   "source": [
    "## Categorical Variable Analyses"
   ]
  },
  {
   "cell_type": "code",
   "execution_count": 45,
   "metadata": {},
   "outputs": [
    {
     "name": "stdout",
     "output_type": "stream",
     "text": [
      "Tagihan terbesar yang dikenakan kepada pengguna pria: 62592.87309\n",
      "Tagihan terbesar yang dikenakan kepada pengguna wanita: 63770.42801\n"
     ]
    }
   ],
   "source": [
    "# which gender is charged the highest\n",
    "\n",
    "# highest charges of male and female users\n",
    "max_male_charge = np.max(insurance['charges'][male])\n",
    "max_female_charge = np.max(insurance['charges'][~male])\n",
    "\n",
    "print(f\"Tagihan terbesar yang dikenakan kepada pengguna pria: {max_male_charge}\")\n",
    "print(f\"Tagihan terbesar yang dikenakan kepada pengguna wanita: {max_female_charge}\")"
   ]
  },
  {
   "cell_type": "markdown",
   "metadata": {},
   "source": [
    "Insight 1#: Highest charge belongs to a female user"
   ]
  },
  {
   "cell_type": "code",
   "execution_count": 42,
   "metadata": {},
   "outputs": [
    {
     "data": {
      "image/png": "[encoded data removed]",
      "text/plain": [
       "<Figure size 432x288 with 1 Axes>"
      ]
     },
     "metadata": {
      "needs_background": "light"
     },
     "output_type": "display_data"
    }
   ],
   "source": [
    "sns.histplot(data=insurance[male], x='charges')\n",
    "plt.show()"
   ]
  },
  {
   "cell_type": "code",
   "execution_count": 43,
   "metadata": {},
   "outputs": [
    {
     "data": {
      "image/png": "[encoded data removed]",
      "text/plain": [
       "<Figure size 432x288 with 1 Axes>"
      ]
     },
     "metadata": {
      "needs_background": "light"
     },
     "output_type": "display_data"
    }
   ],
   "source": [
    "sns.histplot(data=insurance[~male], x='charges')\n",
    "plt.show()"
   ]
  },
  {
   "cell_type": "code",
   "execution_count": null,
   "metadata": {},
   "outputs": [],
   "source": []
  }
 ],
 "metadata": {
  "kernelspec": {
   "display_name": "Python 3.10.5 64-bit",
   "language": "python",
   "name": "python3"
  },
  "language_info": {
   "codemirror_mode": {
    "name": "ipython",
    "version": 3
   },
   "file_extension": ".py",
   "mimetype": "text/x-python",
   "name": "python",
   "nbconvert_exporter": "python",
   "pygments_lexer": "ipython3",
   "version": "3.10.5"
  },
  "orig_nbformat": 4,
  "vscode": {
   "interpreter": {
    "hash": "b56bdd541f4dd53dc090db587cebbea2780bf99bf2bbd1c72f453673f286369f"
   }
  }
 },
 "nbformat": 4,
 "nbformat_minor": 2
}
