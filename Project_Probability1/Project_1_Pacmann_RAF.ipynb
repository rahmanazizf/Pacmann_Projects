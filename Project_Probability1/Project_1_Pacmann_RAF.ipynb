{
 "cells": [
  {
   "cell_type": "markdown",
   "metadata": {},
   "source": [
    "# Pacmann 1st Project: Probability I"
   ]
  },
  {
   "cell_type": "markdown",
   "metadata": {},
   "source": [
    "##### Created and Aranged by Rahman Aziz Firmansyah"
   ]
  },
  {
   "cell_type": "markdown",
   "metadata": {},
   "source": [
    "## Descriptive Statistics Analyses"
   ]
  },
  {
   "cell_type": "code",
   "execution_count": 2,
   "metadata": {},
   "outputs": [],
   "source": [
    "import pandas as pd\n",
    "import numpy as np\n",
    "import matplotlib.pyplot as plt\n",
    "import seaborn as sns"
   ]
  },
  {
   "cell_type": "code",
   "execution_count": 3,
   "metadata": {},
   "outputs": [
    {
     "data": {
      "text/html": [
       "<div>\n",
       "<style scoped>\n",
       "    .dataframe tbody tr th:only-of-type {\n",
       "        vertical-align: middle;\n",
       "    }\n",
       "\n",
       "    .dataframe tbody tr th {\n",
       "        vertical-align: top;\n",
       "    }\n",
       "\n",
       "    .dataframe thead th {\n",
       "        text-align: right;\n",
       "    }\n",
       "</style>\n",
       "<table border=\"1\" class=\"dataframe\">\n",
       "  <thead>\n",
       "    <tr style=\"text-align: right;\">\n",
       "      <th></th>\n",
       "      <th>age</th>\n",
       "      <th>sex</th>\n",
       "      <th>bmi</th>\n",
       "      <th>children</th>\n",
       "      <th>smoker</th>\n",
       "      <th>region</th>\n",
       "      <th>charges</th>\n",
       "    </tr>\n",
       "  </thead>\n",
       "  <tbody>\n",
       "    <tr>\n",
       "      <th>0</th>\n",
       "      <td>19</td>\n",
       "      <td>female</td>\n",
       "      <td>27.900</td>\n",
       "      <td>0</td>\n",
       "      <td>yes</td>\n",
       "      <td>southwest</td>\n",
       "      <td>16884.92400</td>\n",
       "    </tr>\n",
       "    <tr>\n",
       "      <th>1</th>\n",
       "      <td>18</td>\n",
       "      <td>male</td>\n",
       "      <td>33.770</td>\n",
       "      <td>1</td>\n",
       "      <td>no</td>\n",
       "      <td>southeast</td>\n",
       "      <td>1725.55230</td>\n",
       "    </tr>\n",
       "    <tr>\n",
       "      <th>2</th>\n",
       "      <td>28</td>\n",
       "      <td>male</td>\n",
       "      <td>33.000</td>\n",
       "      <td>3</td>\n",
       "      <td>no</td>\n",
       "      <td>southeast</td>\n",
       "      <td>4449.46200</td>\n",
       "    </tr>\n",
       "    <tr>\n",
       "      <th>3</th>\n",
       "      <td>33</td>\n",
       "      <td>male</td>\n",
       "      <td>22.705</td>\n",
       "      <td>0</td>\n",
       "      <td>no</td>\n",
       "      <td>northwest</td>\n",
       "      <td>21984.47061</td>\n",
       "    </tr>\n",
       "    <tr>\n",
       "      <th>4</th>\n",
       "      <td>32</td>\n",
       "      <td>male</td>\n",
       "      <td>28.880</td>\n",
       "      <td>0</td>\n",
       "      <td>no</td>\n",
       "      <td>northwest</td>\n",
       "      <td>3866.85520</td>\n",
       "    </tr>\n",
       "  </tbody>\n",
       "</table>\n",
       "</div>"
      ],
      "text/plain": [
       "   age     sex     bmi  children smoker     region      charges\n",
       "0   19  female  27.900         0    yes  southwest  16884.92400\n",
       "1   18    male  33.770         1     no  southeast   1725.55230\n",
       "2   28    male  33.000         3     no  southeast   4449.46200\n",
       "3   33    male  22.705         0     no  northwest  21984.47061\n",
       "4   32    male  28.880         0     no  northwest   3866.85520"
      ]
     },
     "execution_count": 3,
     "metadata": {},
     "output_type": "execute_result"
    }
   ],
   "source": [
    "insurance = pd.read_csv('insurance.csv')\n",
    "insurance.head()"
   ]
  },
  {
   "cell_type": "code",
   "execution_count": 4,
   "metadata": {},
   "outputs": [
    {
     "name": "stdout",
     "output_type": "stream",
     "text": [
      "Average insurance users' age: 39\n"
     ]
    }
   ],
   "source": [
    "# average insurance users\n",
    "avg_age_users = np.mean(insurance['age'])\n",
    "print(f\"Average insurance users' age: {avg_age_users:.0f}\")"
   ]
  },
  {
   "cell_type": "markdown",
   "metadata": {},
   "source": [
    "Insight #1: Average insurance users' age is 39"
   ]
  },
  {
   "cell_type": "code",
   "execution_count": 5,
   "metadata": {},
   "outputs": [
    {
     "name": "stdout",
     "output_type": "stream",
     "text": [
      "Average BMI of users who smoke: 30.71\n",
      "Average BMI of users who do not smoke: 30.65\n"
     ]
    }
   ],
   "source": [
    "# conditional statement for smoker\n",
    "smoker = insurance['smoker'] == 'yes'\n",
    "\n",
    "# average body mass index of insurance users who smoke\n",
    "avg_bmi_smokers = np.mean(insurance['bmi'][smoker])\n",
    "avg_bmi_nonsmokers = np.mean(insurance['bmi'][~smoker])\n",
    "print(f\"Average BMI of users who smoke: {avg_bmi_smokers:.2f}\")\n",
    "print(f\"Average BMI of users who do not smoke: {avg_bmi_nonsmokers:.2f}\")"
   ]
  },
  {
   "cell_type": "markdown",
   "metadata": {},
   "source": [
    "Insight #2: Average BMI of users **both** smoker and non-smoker are **relatively the same**"
   ]
  },
  {
   "cell_type": "code",
   "execution_count": 6,
   "metadata": {},
   "outputs": [
    {
     "name": "stdout",
     "output_type": "stream",
     "text": [
      "Average charges of smoker users: 32050.23\n",
      "Average charges of non-smoker users: 8434.27\n"
     ]
    }
   ],
   "source": [
    "# average charges of smokers\n",
    "avg_charges_smokers = np.mean(insurance['charges'][smoker])\n",
    "\n",
    "# average charges of non smokers\n",
    "avg_charges_nonsmokers = np.mean(insurance['charges'][~smoker])\n",
    "\n",
    "print(f\"Average charges of smoker users: {avg_charges_smokers:.2f}\")\n",
    "print(f\"Average charges of non-smoker users: {avg_charges_nonsmokers:.2f}\")"
   ]
  },
  {
   "cell_type": "markdown",
   "metadata": {},
   "source": [
    "Insight #3: Difference between average charge of insurance users who smoke and do not smoke is signifficant"
   ]
  },
  {
   "cell_type": "code",
   "execution_count": 42,
   "metadata": {},
   "outputs": [
    {
     "name": "stdout",
     "output_type": "stream",
     "text": [
      "Average BMI of users given aged over 25 y.o. and smoker: 30.58\n",
      "Average BMI of users given aged over 25 y.o. and do not smoke: 30.93\n"
     ]
    }
   ],
   "source": [
    "# average BMI of users aged over 25 that smoke and don't smoke\n",
    "\n",
    "# conditional stament for users who is aged over 25\n",
    "\n",
    "\n",
    "over_25 = insurance['age'] > 25\n",
    "\n",
    "# average BMI of users aged over 25 that smoke\n",
    "avg_bmi_25_smokers = np.mean(insurance['bmi'][smoker & over_25])\n",
    "\n",
    "# average BMI of users aged over 25 that don't smoke\n",
    "avg_bmi_25_nonsmokers = np.mean(insurance['bmi'][~smoker & over_25])\n",
    "\n",
    "print(f\"Average BMI of users given aged over 25 y.o. and smoker: {avg_bmi_25_smokers:.2f}\")\n",
    "print(f\"Average BMI of users given aged over 25 y.o. and do not smoke: {avg_bmi_25_nonsmokers:.2f}\")"
   ]
  },
  {
   "cell_type": "markdown",
   "metadata": {},
   "source": [
    "Insight #4: Average BMI of users either smokers or non smokers, and either belong to older or younger age, are relatively identical"
   ]
  },
  {
   "cell_type": "code",
   "execution_count": 8,
   "metadata": {},
   "outputs": [
    {
     "name": "stdout",
     "output_type": "stream",
     "text": [
      "Average BMI of male users: 30.94\n",
      "Average BMI of female users: 30.38\n"
     ]
    }
   ],
   "source": [
    "# comparing BMI between male and female users\n",
    "\n",
    "# conditional statement for male users\n",
    "male = insurance['sex'] == 'male'\n",
    "\n",
    "# average BMI of male users\n",
    "avg_bmi_male = np.mean(insurance['bmi'][male])\n",
    "avg_bmi_female = np.mean(insurance['bmi'][~male])\n",
    "\n",
    "print(f\"Average BMI of male users: {avg_bmi_male:.2f}\")\n",
    "print(f\"Average BMI of female users: {avg_bmi_female:.2f}\")"
   ]
  },
  {
   "cell_type": "markdown",
   "metadata": {},
   "source": [
    "Insight #5: average BMI of users is **relatively identical** **regradless** other factors such as smoker or non smokers, older or younger, male or female"
   ]
  },
  {
   "cell_type": "markdown",
   "metadata": {},
   "source": [
    "## Categorical Variable Analyses"
   ]
  },
  {
   "cell_type": "code",
   "execution_count": 9,
   "metadata": {},
   "outputs": [
    {
     "name": "stdout",
     "output_type": "stream",
     "text": [
      "Highest charge applied to male users: 62592.87309\n",
      "Highest charge applied to female users: 63770.42801\n"
     ]
    }
   ],
   "source": [
    "# which gender is charged the highest\n",
    "\n",
    "# highest charges of male and female users\n",
    "max_male_charge = np.max(insurance['charges'][male])\n",
    "max_female_charge = np.max(insurance['charges'][~male])\n",
    "\n",
    "print(f\"Highest charge applied to male users: {max_male_charge}\")\n",
    "print(f\"Highest charge applied to female users: {max_female_charge}\")"
   ]
  },
  {
   "cell_type": "markdown",
   "metadata": {},
   "source": [
    "Insight 1#: Highest charge belongs to a female user"
   ]
  },
  {
   "cell_type": "code",
   "execution_count": 10,
   "metadata": {},
   "outputs": [
    {
     "name": "stdout",
     "output_type": "stream",
     "text": [
      "Percentage of users who smoke to the total: 20.48%\n",
      "Percentage of users who do not smoke to the total: 79.52%\n"
     ]
    }
   ],
   "source": [
    "# proportion of smokers and non smokers\n",
    "p_smokers = len(insurance[smoker]) * 100/len(insurance)\n",
    "p_nonsmokers = len(insurance[~smoker]) * 100/len(insurance)\n",
    "\n",
    "print(f\"Percentage of users who smoke to the total: {p_smokers:.2f}%\")\n",
    "print(f\"Percentage of users who do not smoke to the total: {p_nonsmokers:.2f}%\")"
   ]
  },
  {
   "cell_type": "markdown",
   "metadata": {},
   "source": [
    "Insight #2: **More** insurance users are non-smokers than smokers"
   ]
  },
  {
   "cell_type": "code",
   "execution_count": 11,
   "metadata": {},
   "outputs": [
    {
     "data": {
      "image/png": "[encoded data removed]",
      "text/plain": [
       "<Figure size 432x288 with 1 Axes>"
      ]
     },
     "metadata": {
      "needs_background": "light"
     },
     "output_type": "display_data"
    }
   ],
   "source": [
    "# distribution of charge for each region\n",
    "\n",
    "sns.histplot(data=insurance, x='charges', hue='region', kde=True)\n",
    "plt.title('Distributions of Charge for Each Region are Relatively Similar')\n",
    "plt.show()"
   ]
  },
  {
   "cell_type": "markdown",
   "metadata": {},
   "source": [
    "Insight #3: Probability of charges for each region are **relatively similar** therefore it **can be assumed** that **region is not a determining factor** of insurance charged to the users"
   ]
  },
  {
   "cell_type": "code",
   "execution_count": 12,
   "metadata": {},
   "outputs": [
    {
     "data": {
      "image/png": "[encoded data removed]",
      "text/plain": [
       "<Figure size 432x288 with 1 Axes>"
      ]
     },
     "metadata": {
      "needs_background": "light"
     },
     "output_type": "display_data"
    }
   ],
   "source": [
    "# is the number of users are equally distributed for each region?\n",
    "\n",
    "sns.histplot(data=insurance, x='region', hue='region', palette='bright')\n",
    "plt.title('The number of users are equally distributed')\n",
    "plt.show()"
   ]
  },
  {
   "cell_type": "markdown",
   "metadata": {},
   "source": [
    "Insight #4: The number of users are equally distributed with slight difference in southeast region"
   ]
  },
  {
   "cell_type": "code",
   "execution_count": 13,
   "metadata": {},
   "outputs": [
    {
     "name": "stdout",
     "output_type": "stream",
     "text": [
      "Probability of a male user given a smoker: 0.58\n",
      "Probability of a female user given a smoker: 0.42\n"
     ]
    }
   ],
   "source": [
    "# probability of being a male or female given a smoker\n",
    "\n",
    "n_smokers = len(insurance[smoker])\n",
    "\n",
    "# probability of being a male given a smoker\n",
    "p_male_smoker = len(insurance[smoker & male])/len(insurance[smoker])\n",
    "\n",
    "# probability of being a female given a smoker\n",
    "p_female_smoker = len(insurance[smoker & ~male])/len(insurance[smoker])\n",
    "\n",
    "print(f\"Probability of a male user given a smoker: {p_male_smoker:.2f}\")\n",
    "print(f\"Probability of a female user given a smoker: {p_female_smoker:.2f}\")"
   ]
  },
  {
   "cell_type": "markdown",
   "metadata": {},
   "source": [
    "Insight #5: A user that smoke is **more likely** to be a male"
   ]
  },
  {
   "cell_type": "markdown",
   "metadata": {},
   "source": [
    "## Continuous Variable Analysis"
   ]
  },
  {
   "cell_type": "code",
   "execution_count": 14,
   "metadata": {},
   "outputs": [
    {
     "data": {
      "image/png": "[encoded data removed]",
      "text/plain": [
       "<Figure size 432x288 with 1 Axes>"
      ]
     },
     "metadata": {
      "needs_background": "light"
     },
     "output_type": "display_data"
    }
   ],
   "source": [
    "# probability amount of charge regarding to BMI\n",
    "\n",
    "sns.histplot(data=insurance, x='bmi', y='charges')\n",
    "plt.title('Users whose BMI lie between 25-35 are likely to pay under 10000')\n",
    "plt.axhline(y=10000, color='red')\n",
    "plt.axvline(x=25, color='red')\n",
    "plt.axvline(x=35, color='red')\n",
    "plt.show()"
   ]
  },
  {
   "cell_type": "markdown",
   "metadata": {},
   "source": [
    "Insight #1: Roughly estimated, users whose BMI lie between 25-35 are likely to pay under 10000 of insurance charge"
   ]
  },
  {
   "cell_type": "code",
   "execution_count": 15,
   "metadata": {},
   "outputs": [],
   "source": [
    "# how likely a smoker whose BMI is over 25 being charged more than 16700\n",
    "\n",
    "# conditional statements\n",
    "bmi_over_25 = insurance['bmi'] > 25\n",
    "charged_167k = insurance['charges'] > 16700"
   ]
  },
  {
   "cell_type": "markdown",
   "metadata": {},
   "source": [
    "This case can be solved with conditional probability model as follows:\n",
    "$$\n",
    "P(X > 16700 | Y > 25  \\cap  Z = 1) = \\frac{P(X > 16700  \\cap  (Y > 25  \\cap  Z = 1))}{P(Y > 25  \\cap  Z = 1)}\n",
    "$$"
   ]
  },
  {
   "cell_type": "markdown",
   "metadata": {},
   "source": [
    "Let be random variables X = Charge, Y = BMI, Z = Smoker (which take two states, 1 (yes) or 0 (no))"
   ]
  },
  {
   "cell_type": "code",
   "execution_count": 16,
   "metadata": {},
   "outputs": [
    {
     "name": "stdout",
     "output_type": "stream",
     "text": [
      "Probability of a smoker whose BMI is over 25 being charged more than 16.7k: 0.98\n"
     ]
    }
   ],
   "source": [
    "n_Y_Z = len(insurance[bmi_over_25 & smoker])\n",
    "n_X_Y_Z = len(insurance[charged_167k & bmi_over_25 & smoker])\n",
    "\n",
    "# calculating probability of event\n",
    "p_X_given_Y_Z = n_X_Y_Z/n_Y_Z\n",
    "\n",
    "print(f\"Probability of a smoker whose BMI is over 25 being charged more than 16.7k: {p_X_given_Y_Z:.2f}\")"
   ]
  },
  {
   "cell_type": "markdown",
   "metadata": {},
   "source": [
    "Insight #2: A smoker whose BMI is over 25 is **very likely** to be charged over 167k. It can be assumed that smoker and high bmi is two determining factor can be used for predicting insurance charges."
   ]
  },
  {
   "cell_type": "code",
   "execution_count": 17,
   "metadata": {},
   "outputs": [],
   "source": [
    "# what is the probability of a user being charged over 16.7k given a smoker\n",
    "n_Z = len(insurance[smoker])\n",
    "n_X_Z = len(insurance[charged_167k & smoker])"
   ]
  },
  {
   "cell_type": "markdown",
   "metadata": {},
   "source": [
    "The problem above can be arranged into the following probabilistic model\n",
    "$$\n",
    "P(X > 16700 | Z = 1) = \\frac{P(X > 16700 \\cap Z = 1)}{P(Z = 1)}\n",
    "$$"
   ]
  },
  {
   "cell_type": "code",
   "execution_count": 18,
   "metadata": {},
   "outputs": [
    {
     "name": "stdout",
     "output_type": "stream",
     "text": [
      "Probability of random user being charged over 16.7k given a smoker: 0.93\n"
     ]
    }
   ],
   "source": [
    "p_X_given_Z = n_X_Z/n_Z\n",
    "\n",
    "print(f\"Probability of random user being charged over 16.7k given a smoker: {p_X_given_Z:.2f}\")"
   ]
  },
  {
   "cell_type": "markdown",
   "metadata": {},
   "source": [
    "Insight #3: A user that smoke is very likely to be charged over 16.7k"
   ]
  },
  {
   "cell_type": "code",
   "execution_count": 50,
   "metadata": {},
   "outputs": [],
   "source": [
    "# what is the probability of a user whose BMI is over 25 being charged over 16.7k\n",
    "n_Y = len(insurance[bmi_over_25])\n",
    "n_X_Y = len(insurance[bmi_over_25 & charged_167k])"
   ]
  },
  {
   "cell_type": "markdown",
   "metadata": {},
   "source": [
    "the probability of a user whose BMI is over 25 being charged over 16.7k\n",
    "$$\n",
    "P(X > 16700 | Y > 25) = \\frac{P(X > 16700 \\cap Y > 25)}{P(Y > 25)}\n",
    "$$"
   ]
  },
  {
   "cell_type": "code",
   "execution_count": 51,
   "metadata": {},
   "outputs": [
    {
     "name": "stdout",
     "output_type": "stream",
     "text": [
      "Probability of a user whose BMI is greater than 25 being charged over 16.7k: 0.26\n"
     ]
    }
   ],
   "source": [
    "p_X_given_Y = n_X_Y/n_Y\n",
    "\n",
    "print(f\"Probability of a user whose BMI is greater than 25 being charged over 16.7k: {p_X_given_Y:.2f}\")"
   ]
  },
  {
   "cell_type": "code",
   "execution_count": 52,
   "metadata": {},
   "outputs": [],
   "source": [
    "# what is the probability of a user whose BMI is less than 25 being charged over 16.7k\n",
    "n_Y = len(insurance[~bmi_over_25])\n",
    "n_X_Y = len(insurance[~bmi_over_25 & charged_167k])"
   ]
  },
  {
   "cell_type": "markdown",
   "metadata": {},
   "source": [
    "the probability of a user whose BMI is under 25 being charged over 16.7k\n",
    "$$\n",
    "P(X > 16700 | Y < 25) = \\frac{P(X > 16700 \\cap Y < 25)}{P(Y < 25)}\n",
    "$$"
   ]
  },
  {
   "cell_type": "code",
   "execution_count": 53,
   "metadata": {},
   "outputs": [
    {
     "name": "stdout",
     "output_type": "stream",
     "text": [
      "Probability of a user whose BMI is less than 25 being charged over 16.7k: 0.21\n"
     ]
    }
   ],
   "source": [
    "p_X_given_Y = n_X_Y/n_Y\n",
    "\n",
    "print(f\"Probability of a user whose BMI is less than 25 being charged over 16.7k: {p_X_given_Y:.2f}\")"
   ]
  },
  {
   "cell_type": "code",
   "execution_count": 60,
   "metadata": {},
   "outputs": [],
   "source": [
    "# what is the probability of a user being charged over 16.7k given not a smoker with BMI over 25\n",
    "n_X_Y_Z0 = len(insurance[charged_167k & bmi_over_25 & (~smoker)])\n",
    "n_Y_Z0 = len(insurance[bmi_over_25 & (~smoker)])"
   ]
  },
  {
   "cell_type": "markdown",
   "metadata": {},
   "source": [
    "the probability of a user being charged over 16.7k given not a smoker with BMI over 25\n",
    "$$\n",
    "P(X > 16700 | Y > 25  \\cap  Z = 0) = \\frac{P(X > 16700  \\cap  (Y > 25  \\cap  Z = 0))}{P(Y > 25  \\cap  Z = 0)}\n",
    "$$"
   ]
  },
  {
   "cell_type": "code",
   "execution_count": 66,
   "metadata": {},
   "outputs": [
    {
     "name": "stdout",
     "output_type": "stream",
     "text": [
      "Probability of a user being charged over 16.7k given not a smoker with BMI over 25: 0.08\n"
     ]
    }
   ],
   "source": [
    "p_X_given_Y_Z0 = n_X_Y_Z0/n_Y_Z0\n",
    "\n",
    "print(f\"Probability of a user being charged over 16.7k given not a smoker with BMI over 25: {p_X_given_Y_Z0:.2f}\")"
   ]
  },
  {
   "cell_type": "code",
   "execution_count": 62,
   "metadata": {},
   "outputs": [],
   "source": [
    "# what is the probability of a user being charged over 16.7k given a smoker with BMI over 25\n",
    "n_X_Y_Z1 = len(insurance[charged_167k & bmi_over_25 & smoker])\n",
    "n_Y_Z1 = len(insurance[bmi_over_25 & smoker])"
   ]
  },
  {
   "cell_type": "markdown",
   "metadata": {},
   "source": [
    "the probability of a user being charged over 16.7k given a smoker with BMI over 25\n",
    "$$\n",
    "P(X > 16700 | Y > 25  \\cap  Z = 1) = \\frac{P(X > 16700  \\cap  (Y > 25  \\cap  Z = 1))}{P(Y > 25  \\cap  Z = 1)}\n",
    "$$"
   ]
  },
  {
   "cell_type": "code",
   "execution_count": 67,
   "metadata": {},
   "outputs": [
    {
     "name": "stdout",
     "output_type": "stream",
     "text": [
      "Probability of a user being charged over 16.7k given a smoker with BMI over 25: 0.08\n"
     ]
    }
   ],
   "source": [
    "p_X_given_Y_Z1 = n_X_Y_Z1/n_Y_Z1\n",
    "\n",
    "print(f\"Probability of a user being charged over 16.7k given a smoker with BMI over 25: {p_X_given_Y_Z0:.2f}\")"
   ]
  },
  {
   "cell_type": "markdown",
   "metadata": {},
   "source": [
    "Insight #3: Smoker **outweighs** BMI value as determining factor for probability of a user being charged over 16.7k"
   ]
  },
  {
   "cell_type": "markdown",
   "metadata": {},
   "source": [
    "## Correlation Analyeses"
   ]
  },
  {
   "cell_type": "code",
   "execution_count": 23,
   "metadata": {},
   "outputs": [
    {
     "data": {
      "text/html": [
       "<div>\n",
       "<style scoped>\n",
       "    .dataframe tbody tr th:only-of-type {\n",
       "        vertical-align: middle;\n",
       "    }\n",
       "\n",
       "    .dataframe tbody tr th {\n",
       "        vertical-align: top;\n",
       "    }\n",
       "\n",
       "    .dataframe thead th {\n",
       "        text-align: right;\n",
       "    }\n",
       "</style>\n",
       "<table border=\"1\" class=\"dataframe\">\n",
       "  <thead>\n",
       "    <tr style=\"text-align: right;\">\n",
       "      <th></th>\n",
       "      <th>age</th>\n",
       "      <th>sex</th>\n",
       "      <th>bmi</th>\n",
       "      <th>children</th>\n",
       "      <th>smoker</th>\n",
       "      <th>region</th>\n",
       "      <th>charges</th>\n",
       "    </tr>\n",
       "  </thead>\n",
       "  <tbody>\n",
       "    <tr>\n",
       "      <th>0</th>\n",
       "      <td>19</td>\n",
       "      <td>female</td>\n",
       "      <td>27.900</td>\n",
       "      <td>0</td>\n",
       "      <td>yes</td>\n",
       "      <td>southwest</td>\n",
       "      <td>16884.92400</td>\n",
       "    </tr>\n",
       "    <tr>\n",
       "      <th>1</th>\n",
       "      <td>18</td>\n",
       "      <td>male</td>\n",
       "      <td>33.770</td>\n",
       "      <td>1</td>\n",
       "      <td>no</td>\n",
       "      <td>southeast</td>\n",
       "      <td>1725.55230</td>\n",
       "    </tr>\n",
       "    <tr>\n",
       "      <th>2</th>\n",
       "      <td>28</td>\n",
       "      <td>male</td>\n",
       "      <td>33.000</td>\n",
       "      <td>3</td>\n",
       "      <td>no</td>\n",
       "      <td>southeast</td>\n",
       "      <td>4449.46200</td>\n",
       "    </tr>\n",
       "    <tr>\n",
       "      <th>3</th>\n",
       "      <td>33</td>\n",
       "      <td>male</td>\n",
       "      <td>22.705</td>\n",
       "      <td>0</td>\n",
       "      <td>no</td>\n",
       "      <td>northwest</td>\n",
       "      <td>21984.47061</td>\n",
       "    </tr>\n",
       "    <tr>\n",
       "      <th>4</th>\n",
       "      <td>32</td>\n",
       "      <td>male</td>\n",
       "      <td>28.880</td>\n",
       "      <td>0</td>\n",
       "      <td>no</td>\n",
       "      <td>northwest</td>\n",
       "      <td>3866.85520</td>\n",
       "    </tr>\n",
       "  </tbody>\n",
       "</table>\n",
       "</div>"
      ],
      "text/plain": [
       "   age     sex     bmi  children smoker     region      charges\n",
       "0   19  female  27.900         0    yes  southwest  16884.92400\n",
       "1   18    male  33.770         1     no  southeast   1725.55230\n",
       "2   28    male  33.000         3     no  southeast   4449.46200\n",
       "3   33    male  22.705         0     no  northwest  21984.47061\n",
       "4   32    male  28.880         0     no  northwest   3866.85520"
      ]
     },
     "execution_count": 23,
     "metadata": {},
     "output_type": "execute_result"
    }
   ],
   "source": [
    "insurance.head()"
   ]
  },
  {
   "cell_type": "code",
   "execution_count": 24,
   "metadata": {},
   "outputs": [
    {
     "data": {
      "text/html": [
       "<div>\n",
       "<style scoped>\n",
       "    .dataframe tbody tr th:only-of-type {\n",
       "        vertical-align: middle;\n",
       "    }\n",
       "\n",
       "    .dataframe tbody tr th {\n",
       "        vertical-align: top;\n",
       "    }\n",
       "\n",
       "    .dataframe thead th {\n",
       "        text-align: right;\n",
       "    }\n",
       "</style>\n",
       "<table border=\"1\" class=\"dataframe\">\n",
       "  <thead>\n",
       "    <tr style=\"text-align: right;\">\n",
       "      <th></th>\n",
       "      <th>age</th>\n",
       "      <th>bmi</th>\n",
       "      <th>children</th>\n",
       "      <th>charges</th>\n",
       "    </tr>\n",
       "  </thead>\n",
       "  <tbody>\n",
       "    <tr>\n",
       "      <th>age</th>\n",
       "      <td>1.000000</td>\n",
       "      <td>0.109272</td>\n",
       "      <td>0.042469</td>\n",
       "      <td>0.299008</td>\n",
       "    </tr>\n",
       "    <tr>\n",
       "      <th>bmi</th>\n",
       "      <td>0.109272</td>\n",
       "      <td>1.000000</td>\n",
       "      <td>0.012759</td>\n",
       "      <td>0.198341</td>\n",
       "    </tr>\n",
       "    <tr>\n",
       "      <th>children</th>\n",
       "      <td>0.042469</td>\n",
       "      <td>0.012759</td>\n",
       "      <td>1.000000</td>\n",
       "      <td>0.067998</td>\n",
       "    </tr>\n",
       "    <tr>\n",
       "      <th>charges</th>\n",
       "      <td>0.299008</td>\n",
       "      <td>0.198341</td>\n",
       "      <td>0.067998</td>\n",
       "      <td>1.000000</td>\n",
       "    </tr>\n",
       "  </tbody>\n",
       "</table>\n",
       "</div>"
      ],
      "text/plain": [
       "               age       bmi  children   charges\n",
       "age       1.000000  0.109272  0.042469  0.299008\n",
       "bmi       0.109272  1.000000  0.012759  0.198341\n",
       "children  0.042469  0.012759  1.000000  0.067998\n",
       "charges   0.299008  0.198341  0.067998  1.000000"
      ]
     },
     "execution_count": 24,
     "metadata": {},
     "output_type": "execute_result"
    }
   ],
   "source": [
    "# correlation between numerical features\n",
    "insurance.corr()"
   ]
  },
  {
   "cell_type": "markdown",
   "metadata": {},
   "source": [
    "Correlation value indicates how linearly-correlated two variables are. As a correlation value of two variables **approaches 1**, it is said to be **positively correlated**. In other words, given a variable increases in value, another variable **follows along**. In opposite, if two variable has a correlation value that approaches -1, it is said to be **negatively correlated**. While a variable is moving towards positive direction, another is moving towards **opposite** direction. If the correlation value is 0, then it has no correlation."
   ]
  },
  {
   "cell_type": "code",
   "execution_count": 25,
   "metadata": {},
   "outputs": [
    {
     "data": {
      "image/png": "[encoded data removed]",
      "text/plain": [
       "<Figure size 432x288 with 1 Axes>"
      ]
     },
     "metadata": {
      "needs_background": "light"
     },
     "output_type": "display_data"
    },
    {
     "data": {
      "image/png": "[encoded data removed]",
      "text/plain": [
       "<Figure size 432x288 with 1 Axes>"
      ]
     },
     "metadata": {
      "needs_background": "light"
     },
     "output_type": "display_data"
    },
    {
     "data": {
      "image/png": "[encoded data removed]",
      "text/plain": [
       "<Figure size 432x288 with 1 Axes>"
      ]
     },
     "metadata": {
      "needs_background": "light"
     },
     "output_type": "display_data"
    }
   ],
   "source": [
    "from statistics import correlation\n",
    "\n",
    "for feature in insurance.select_dtypes('number').columns:\n",
    "    if feature != 'charges':\n",
    "        sns.regplot(data=insurance, x=feature, y='charges', line_kws={'color':'r'}, marker='+')\n",
    "        plt.title(f\"Correlation between {feature} and charges (corr = {correlation(insurance[feature], insurance['charges']):.4f})\")\n",
    "        plt.show()"
   ]
  },
  {
   "cell_type": "code",
   "execution_count": 26,
   "metadata": {},
   "outputs": [
    {
     "data": {
      "image/png": "[encoded data removed]",
      "text/plain": [
       "<Figure size 432x288 with 2 Axes>"
      ]
     },
     "metadata": {
      "needs_background": "light"
     },
     "output_type": "display_data"
    }
   ],
   "source": [
    "corr = insurance.corr()\n",
    "sns.heatmap(corr, annot=True)\n",
    "plt.title('Correlation between numerical variables')\n",
    "plt.show()"
   ]
  },
  {
   "cell_type": "markdown",
   "metadata": {},
   "source": [
    "Insight #1: The number of users' children **has no correlation** with the amount of charges applied"
   ]
  },
  {
   "cell_type": "markdown",
   "metadata": {},
   "source": [
    "Insight #2: Age is the **most correlated** feature than any other features with BMI comes after it"
   ]
  },
  {
   "cell_type": "markdown",
   "metadata": {},
   "source": [
    "Insight #3: As the age **increasing**, the amount of charge tends **rising up**"
   ]
  },
  {
   "cell_type": "markdown",
   "metadata": {},
   "source": [
    "## Hypothesis Testing"
   ]
  },
  {
   "cell_type": "markdown",
   "metadata": {},
   "source": [
    "Q1: Are the charges of smokers higher than that of nonsmokers?"
   ]
  },
  {
   "cell_type": "code",
   "execution_count": 27,
   "metadata": {},
   "outputs": [
    {
     "data": {
      "image/png": "[encoded data removed]",
      "text/plain": [
       "<Figure size 432x288 with 1 Axes>"
      ]
     },
     "metadata": {
      "needs_background": "light"
     },
     "output_type": "display_data"
    }
   ],
   "source": [
    "sns.boxplot(data=insurance, x='smoker', y='charges')\n",
    "plt.title(\"Users that smoke generally pay charges higher than non-smoker\")\n",
    "plt.show()"
   ]
  },
  {
   "cell_type": "markdown",
   "metadata": {},
   "source": [
    "Null hypothesis: Users that **smoke** pay **higher** than users do not smoke"
   ]
  },
  {
   "cell_type": "markdown",
   "metadata": {},
   "source": [
    "We can assume that the data is normally distributed to perform T-test to investigate whether we remain with our current assumption or not"
   ]
  },
  {
   "cell_type": "markdown",
   "metadata": {},
   "source": [
    "$$\n",
    "H_0: \\bar{x}_{smoker} \\geq \\bar{x}_{nonsmoker} \\\\\n",
    "H_1: \\bar{x}_{smoker} < \\bar{x}_{nonsmoker}\n",
    "$$"
   ]
  },
  {
   "cell_type": "markdown",
   "metadata": {},
   "source": [
    "Since the variance between two categories are different, we use independent t-test for two samples.\n",
    "$$\n",
    "t = \\frac{\\bar{x}_{smoker}-\\bar{x}_{nonsmoker}}{\\sqrt{\\frac{s_{smoker}}{n_{smoker}}+\\frac{s_{nonsmoker}}{n_{nonsmoker}}}}\n",
    "$$"
   ]
  },
  {
   "cell_type": "code",
   "execution_count": 28,
   "metadata": {},
   "outputs": [],
   "source": [
    "# charges of users that smoke and not smoke\n",
    "charges_smokers = insurance['charges'][smoker]\n",
    "charges_nosmokers = insurance['charges'][~smoker]"
   ]
  },
  {
   "cell_type": "code",
   "execution_count": 29,
   "metadata": {},
   "outputs": [],
   "source": [
    "from scipy.stats import ttest_ind\n",
    "st, p_value = ttest_ind(a=charges_smokers, b=charges_nosmokers, equal_var=False, alternative='less')"
   ]
  },
  {
   "cell_type": "code",
   "execution_count": 30,
   "metadata": {},
   "outputs": [
    {
     "name": "stdout",
     "output_type": "stream",
     "text": [
      "Stat value: 32.751887766341824\n",
      "p-value: 1.0\n"
     ]
    }
   ],
   "source": [
    "print(f\"Stat value: {st}\")\n",
    "print(f\"p-value: {p_value}\")"
   ]
  },
  {
   "cell_type": "markdown",
   "metadata": {},
   "source": [
    "Conclusion: Since p-value > $\\alpha$, we failed to reject null hypothesis and we remain assume that **smoker** users **pay higher** than nonsmoker user"
   ]
  },
  {
   "cell_type": "markdown",
   "metadata": {},
   "source": [
    "Q2: Are charges for those with BMI over 25 higher than that of under 25?"
   ]
  },
  {
   "cell_type": "code",
   "execution_count": 31,
   "metadata": {},
   "outputs": [
    {
     "data": {
      "text/html": [
       "<div>\n",
       "<style scoped>\n",
       "    .dataframe tbody tr th:only-of-type {\n",
       "        vertical-align: middle;\n",
       "    }\n",
       "\n",
       "    .dataframe tbody tr th {\n",
       "        vertical-align: top;\n",
       "    }\n",
       "\n",
       "    .dataframe thead th {\n",
       "        text-align: right;\n",
       "    }\n",
       "</style>\n",
       "<table border=\"1\" class=\"dataframe\">\n",
       "  <thead>\n",
       "    <tr style=\"text-align: right;\">\n",
       "      <th></th>\n",
       "      <th>age</th>\n",
       "      <th>sex</th>\n",
       "      <th>bmi</th>\n",
       "      <th>children</th>\n",
       "      <th>smoker</th>\n",
       "      <th>region</th>\n",
       "      <th>charges</th>\n",
       "      <th>bmi_over_25</th>\n",
       "    </tr>\n",
       "  </thead>\n",
       "  <tbody>\n",
       "    <tr>\n",
       "      <th>0</th>\n",
       "      <td>19</td>\n",
       "      <td>female</td>\n",
       "      <td>27.900</td>\n",
       "      <td>0</td>\n",
       "      <td>yes</td>\n",
       "      <td>southwest</td>\n",
       "      <td>16884.92400</td>\n",
       "      <td>yes</td>\n",
       "    </tr>\n",
       "    <tr>\n",
       "      <th>1</th>\n",
       "      <td>18</td>\n",
       "      <td>male</td>\n",
       "      <td>33.770</td>\n",
       "      <td>1</td>\n",
       "      <td>no</td>\n",
       "      <td>southeast</td>\n",
       "      <td>1725.55230</td>\n",
       "      <td>yes</td>\n",
       "    </tr>\n",
       "    <tr>\n",
       "      <th>2</th>\n",
       "      <td>28</td>\n",
       "      <td>male</td>\n",
       "      <td>33.000</td>\n",
       "      <td>3</td>\n",
       "      <td>no</td>\n",
       "      <td>southeast</td>\n",
       "      <td>4449.46200</td>\n",
       "      <td>yes</td>\n",
       "    </tr>\n",
       "    <tr>\n",
       "      <th>3</th>\n",
       "      <td>33</td>\n",
       "      <td>male</td>\n",
       "      <td>22.705</td>\n",
       "      <td>0</td>\n",
       "      <td>no</td>\n",
       "      <td>northwest</td>\n",
       "      <td>21984.47061</td>\n",
       "      <td>no</td>\n",
       "    </tr>\n",
       "    <tr>\n",
       "      <th>4</th>\n",
       "      <td>32</td>\n",
       "      <td>male</td>\n",
       "      <td>28.880</td>\n",
       "      <td>0</td>\n",
       "      <td>no</td>\n",
       "      <td>northwest</td>\n",
       "      <td>3866.85520</td>\n",
       "      <td>yes</td>\n",
       "    </tr>\n",
       "  </tbody>\n",
       "</table>\n",
       "</div>"
      ],
      "text/plain": [
       "   age     sex     bmi  children smoker     region      charges bmi_over_25\n",
       "0   19  female  27.900         0    yes  southwest  16884.92400         yes\n",
       "1   18    male  33.770         1     no  southeast   1725.55230         yes\n",
       "2   28    male  33.000         3     no  southeast   4449.46200         yes\n",
       "3   33    male  22.705         0     no  northwest  21984.47061          no\n",
       "4   32    male  28.880         0     no  northwest   3866.85520         yes"
      ]
     },
     "execution_count": 31,
     "metadata": {},
     "output_type": "execute_result"
    }
   ],
   "source": [
    "# preparing data\n",
    "insurance_mod = insurance.copy()\n",
    "insurance_mod['bmi_over_25'] = np.where(insurance['bmi'] > 25, 'yes', 'no')\n",
    "insurance_mod.head()"
   ]
  },
  {
   "cell_type": "code",
   "execution_count": 32,
   "metadata": {},
   "outputs": [
    {
     "data": {
      "image/png": "[encoded data removed]",
      "text/plain": [
       "<Figure size 432x288 with 1 Axes>"
      ]
     },
     "metadata": {
      "needs_background": "light"
     },
     "output_type": "display_data"
    }
   ],
   "source": [
    "sns.boxplot(x='bmi_over_25', y='charges', data=insurance_mod)\n",
    "plt.title('Charges of users with BMI over 25 or less are relatively similar')\n",
    "plt.show()"
   ]
  },
  {
   "cell_type": "code",
   "execution_count": 33,
   "metadata": {},
   "outputs": [],
   "source": [
    "# preparing data of charges\n",
    "charge_over_25 = insurance_mod['charges'][insurance_mod['bmi_over_25'] == 'yes']\n",
    "charge_less_25 = insurance_mod['charges'][insurance_mod['bmi_over_25'] == 'no']"
   ]
  },
  {
   "cell_type": "code",
   "execution_count": 34,
   "metadata": {},
   "outputs": [
    {
     "name": "stdout",
     "output_type": "stream",
     "text": [
      "Variance of charges applied to users with BMI over 25: 164579189.52\n",
      "Variance of charges applied to users with BMI less than 25: 55940041.24\n"
     ]
    }
   ],
   "source": [
    "print(f\"Variance of charges applied to users with BMI over 25: {np.var(charge_over_25):.2f}\")\n",
    "print(f\"Variance of charges applied to users with BMI less than 25: {np.var(charge_less_25):.2f}\")"
   ]
  },
  {
   "cell_type": "markdown",
   "metadata": {},
   "source": [
    "Since the variances of two categories are different, we use independent t-test"
   ]
  },
  {
   "cell_type": "markdown",
   "metadata": {},
   "source": [
    "$$\n",
    "H_0: \\bar{x}_{BMI > 25} \\leq \\bar{x}_{BMI \\leq 25} \\\\\n",
    "H_1: \\bar{x}_{BMI > 25} > \\bar{x}_{BMI \\leq 25}\n",
    "$$"
   ]
  },
  {
   "cell_type": "code",
   "execution_count": 72,
   "metadata": {},
   "outputs": [],
   "source": [
    "st, p_val = ttest_ind(a=charge_over_25, b=charge_less_25, equal_var=False, alternative='greater')"
   ]
  },
  {
   "cell_type": "code",
   "execution_count": 73,
   "metadata": {},
   "outputs": [
    {
     "name": "stdout",
     "output_type": "stream",
     "text": [
      "Statistics value: 5.953486371741479\n",
      "p-value: 2.198585436885263e-09\n"
     ]
    }
   ],
   "source": [
    "print(f\"Statistics value: {st}\")\n",
    "print(f\"p-value: {p_val}\")"
   ]
  },
  {
   "cell_type": "markdown",
   "metadata": {},
   "source": [
    "Conclusion: Since p-value < $\\alpha$, null hypothesis is rejected and we assume that users with BMI over 25 **pay higher** than users with BMI less than 25"
   ]
  },
  {
   "cell_type": "markdown",
   "metadata": {},
   "source": [
    "Q3: Are BMI of male and female users identical?"
   ]
  },
  {
   "cell_type": "code",
   "execution_count": 37,
   "metadata": {},
   "outputs": [
    {
     "data": {
      "image/png": "[encoded data removed]",
      "text/plain": [
       "<Figure size 432x288 with 1 Axes>"
      ]
     },
     "metadata": {
      "needs_background": "light"
     },
     "output_type": "display_data"
    }
   ],
   "source": [
    "sns.boxplot(x = 'sex', y = 'bmi', data = insurance_mod)\n",
    "plt.title(\"BMI of male and female users\")\n",
    "plt.show()"
   ]
  },
  {
   "cell_type": "markdown",
   "metadata": {},
   "source": [
    "From the data visualized above we can assume that BMI of male and female users are identical. Hence, we can construct the following hypothesis."
   ]
  },
  {
   "cell_type": "markdown",
   "metadata": {},
   "source": [
    "$$\n",
    "H_0: \\bar{x}_{male} = \\bar{x}_{female} \\\\\n",
    "H_1: \\bar{x}_{male} > \\bar{x}_{female}\n",
    "$$"
   ]
  },
  {
   "cell_type": "code",
   "execution_count": 38,
   "metadata": {},
   "outputs": [],
   "source": [
    "bmi_male = insurance_mod['bmi'][male]\n",
    "bmi_female = insurance_mod['bmi'][~male]"
   ]
  },
  {
   "cell_type": "code",
   "execution_count": 39,
   "metadata": {},
   "outputs": [
    {
     "name": "stdout",
     "output_type": "stream",
     "text": [
      "Variance of BMI of male users: 37.65\n",
      "Variance of BMI of female users: 36.50\n"
     ]
    }
   ],
   "source": [
    "print(f\"Variance of BMI of male users: {np.var(bmi_male):.2f}\")\n",
    "print(f\"Variance of BMI of female users: {np.var(bmi_female):.2f}\")"
   ]
  },
  {
   "cell_type": "markdown",
   "metadata": {},
   "source": [
    "The variances of BMI between male and female users are slightly different, but let us assume those identical"
   ]
  },
  {
   "cell_type": "code",
   "execution_count": 40,
   "metadata": {},
   "outputs": [],
   "source": [
    "st, p_val = ttest_ind(a=bmi_male, b=bmi_female, equal_var=True, alternative='greater')"
   ]
  },
  {
   "cell_type": "code",
   "execution_count": 41,
   "metadata": {},
   "outputs": [
    {
     "name": "stdout",
     "output_type": "stream",
     "text": [
      "Stats value: 1.696752635752224\n",
      "p-value: 0.04498818589492467\n"
     ]
    }
   ],
   "source": [
    "print(f\"Stats value: {st}\")\n",
    "print(f\"p-value: {p_val}\")"
   ]
  },
  {
   "cell_type": "markdown",
   "metadata": {},
   "source": [
    "Since p-value < $\\alpha$, null hypothesis is rejected and we conclude that male's BMI is **higher** than that of female."
   ]
  }
 ],
 "metadata": {
  "kernelspec": {
   "display_name": "Python 3.10.5 64-bit",
   "language": "python",
   "name": "python3"
  },
  "language_info": {
   "codemirror_mode": {
    "name": "ipython",
    "version": 3
   },
   "file_extension": ".py",
   "mimetype": "text/x-python",
   "name": "python",
   "nbconvert_exporter": "python",
   "pygments_lexer": "ipython3",
   "version": "3.10.7"
  },
  "orig_nbformat": 4,
  "vscode": {
   "interpreter": {
    "hash": "b56bdd541f4dd53dc090db587cebbea2780bf99bf2bbd1c72f453673f286369f"
   }
  }
 },
 "nbformat": 4,
 "nbformat_minor": 2
}
